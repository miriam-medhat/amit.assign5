{
 "cells": [
  {
   "cell_type": "markdown",
   "id": "0dd1ee2a-19c1-40bc-9edd-cef1af47e19d",
   "metadata": {},
   "source": [
    "1. Implement Fibonacci series using recursion.\r\n",
    "2. Write a Python program to find all the unique words and count the frequency of\r\n",
    "occurrence from a given list of strings.\r\n",
    "3. Write a Python program that finds all pairs of elements in a list whose sum is equal to a\r\n",
    "given value.\r\n",
    "4. Write a Python program to find the two numbers whose product is maximum among all\r\n",
    "the pairs in a given list of numbers\r\n",
    "5. Write a Python function that takes a number as a parameter and checks whether the\r\n",
    "number is prime or not.\r\n",
    "6. Write a Python function to print the even numbers from a given list.\r\n",
    "7. Write a function that will take a given string and reverse the order of words.\r\n",
    "Ex:\r\n",
    "“Hello world” →”world Hello”\r\n",
    "8. Given an integer x, return true if x is a palindrome, and false otherwise.\r\n",
    "Example 1:\r\n",
    "Input: x = 121\r\n",
    "Output: true\r\n",
    "Explanation: 121 reads as 121 from left to right and from right to left.\r\n",
    "Example 2:\r\n",
    "Input: x = -121\r\n",
    "Output: false\r\n",
    "Explanation: From left to right, it reads -121. From right to left, it becomes 121-. Therefore, it is not a palindrome.\r\n",
    "Example 3:\r\n",
    "Input: x = 10\r\n",
    "Output: false\r\n",
    "Explanation: Reads 01 from right to left. Therefore, it is not a palindrome.\r\n",
    "9. Write a Python function that checks whether a passed stri\n",
    "10. Write a Python function to create and print a list where the values are the squares of numbers\r\n",
    "between 1 and 30 (both included).\r\n",
    "11. Write a Python function to generate all permutations of a list.\r\n",
    "12. Write a Python program to access a function inside a functionng is a palindrome or not."
   ]
  },
  {
   "cell_type": "code",
   "execution_count": 3,
   "id": "d3dcf35a-c274-4d6e-9997-0d942b5690d9",
   "metadata": {},
   "outputs": [
    {
     "name": "stdout",
     "output_type": "stream",
     "text": [
      "0\n",
      "1\n",
      "1\n",
      "2\n",
      "3\n",
      "5\n",
      "8\n",
      "13\n"
     ]
    }
   ],
   "source": [
    "# 1\n",
    "\n",
    "def fib(n):\n",
    "   if n <= 1:\n",
    "       return n\n",
    "   else:\n",
    "       return(fib(n-1) + fib(n-2))\n",
    "\n",
    "nterms = 8\n",
    "\n",
    "if nterms <= 0:\n",
    "   print(\"Enter a positive number: \")\n",
    "else:\n",
    "   for i in range(nterms):\n",
    "       print(fib(i))\n"
   ]
  },
  {
   "cell_type": "code",
   "execution_count": 5,
   "id": "d25f44c0-8ad8-4ed5-acde-c7dd9e3531c9",
   "metadata": {},
   "outputs": [
    {
     "name": "stdout",
     "output_type": "stream",
     "text": [
      "{'Red': 4, 'Green': 2, 'Blue': 1}\n"
     ]
    }
   ],
   "source": [
    "# 2\n",
    "\n",
    "def word_count(words):\n",
    "    word_set = set(words)\n",
    "    word_counts = {}\n",
    "    for word in word_set:\n",
    "        word_counts[word] = words.count(word)\n",
    "    return word_counts\n",
    "\n",
    "words = ['Red', 'Green', 'Red', 'Blue', 'Red', 'Red', 'Green']\n",
    "print(word_count(words)) "
   ]
  },
  {
   "cell_type": "code",
   "execution_count": 7,
   "id": "90074f27-fea7-48e7-9b29-18590d1620d7",
   "metadata": {},
   "outputs": [
    {
     "name": "stdout",
     "output_type": "stream",
     "text": [
      "[(1, 9), (2, 8), (3, 7), (4, 6), (5, 5), (6, 4), (7, 3), (8, 2), (9, 1)]\n"
     ]
    }
   ],
   "source": [
    "# 3\n",
    "\n",
    "orig = [1, 2, 3, 4, 5, 6, 7, 8, 9]\n",
    "value = 10\n",
    "pairs = []\n",
    "\n",
    "for x in orig:\n",
    "    for y in orig:\n",
    "        if x+y == value:\n",
    "            pairs.append((x,y))\n",
    "    \n",
    "print(pairs)"
   ]
  },
  {
   "cell_type": "code",
   "execution_count": 12,
   "id": "06bd02d5-f098-4854-9e83-30e4f694262b",
   "metadata": {},
   "outputs": [
    {
     "name": "stdout",
     "output_type": "stream",
     "text": [
      "[(9, 9)] -> 81\n"
     ]
    }
   ],
   "source": [
    "# 4\n",
    "\n",
    "orig = [1, 2, 3, 4, 5, 6, 7, 8, 9]\n",
    "multi = 0\n",
    "pairs = []\n",
    "for i in orig:\n",
    "    for j in orig:\n",
    "        if i*j > multi:\n",
    "            multi = i*j\n",
    "pairs.append((i, j))\n",
    "\n",
    "print(f\"{pairs} -> {multi}\")"
   ]
  },
  {
   "cell_type": "code",
   "execution_count": 34,
   "id": "124d08bf-864e-49a3-8891-2fc4d419a364",
   "metadata": {},
   "outputs": [
    {
     "name": "stdout",
     "output_type": "stream",
     "text": [
      "7 is a prime number\n"
     ]
    }
   ],
   "source": [
    "# 5\n",
    "\n",
    "def prime(x):\n",
    "    if x == 0 or x == 1:\n",
    "        print(f\"{x} is not a prime number\")\n",
    "    elif x > 1:\n",
    "        for i in range(2, x):\n",
    "            if x % i == 0:\n",
    "                print(f\"{x} is not a prime number\")\n",
    "                break\n",
    "        else:\n",
    "            print(f\"{x} is a prime number\")\n",
    "\n",
    "    else:\n",
    "        print(f\"{x} is not a prime number\")\n",
    "\n",
    "num = 7\n",
    "prime(num)"
   ]
  },
  {
   "cell_type": "code",
   "execution_count": 35,
   "id": "7543f13e-7482-4fd7-9bfb-164b8dde0d55",
   "metadata": {},
   "outputs": [
    {
     "data": {
      "text/plain": [
       "[2, 4, 6, 8]"
      ]
     },
     "execution_count": 35,
     "metadata": {},
     "output_type": "execute_result"
    }
   ],
   "source": [
    "# 6\n",
    "\n",
    "def even(lst):\n",
    "    empty = []\n",
    "    for i in lst:\n",
    "        if i % 2 == 0:\n",
    "            empty.append(i)\n",
    "    return empty\n",
    "\n",
    "lst1= [1, 2, 3, 4, 5, 6, 7, 8, 9]\n",
    "even(lst1)"
   ]
  },
  {
   "cell_type": "code",
   "execution_count": 39,
   "id": "6d47a945-29ac-4046-b8b7-7af663cf8369",
   "metadata": {},
   "outputs": [
    {
     "name": "stdout",
     "output_type": "stream",
     "text": [
      "World Hello\n"
     ]
    }
   ],
   "source": [
    "# 7\n",
    "\n",
    "def reverse(strng):\n",
    "    reversed_words = strng.split()[::-1]\n",
    "    return \" \".join(reversed_words)\n",
    "\n",
    "strng = \"Hello World\"\n",
    "print(reverse(strng))"
   ]
  },
  {
   "cell_type": "code",
   "execution_count": 42,
   "id": "aa7b9eed-00b0-48ca-b849-071564051fc3",
   "metadata": {},
   "outputs": [
    {
     "name": "stdout",
     "output_type": "stream",
     "text": [
      "True\n",
      "False\n",
      "False\n"
     ]
    }
   ],
   "source": [
    "# 8\n",
    "\n",
    "def palin(x):\n",
    "    orig = str(x)\n",
    "    rev = orig[::-1]\n",
    "    return orig == rev\n",
    "\n",
    "print(palin(121))\n",
    "print(palin(-121))\n",
    "print(palin(10))"
   ]
  },
  {
   "cell_type": "code",
   "execution_count": 46,
   "id": "82aeb713-b886-4e77-929a-2e8693d2b565",
   "metadata": {},
   "outputs": [
    {
     "name": "stdout",
     "output_type": "stream",
     "text": [
      "The string is not palindrome\n",
      "The string is palindrome\n"
     ]
    }
   ],
   "source": [
    "# 9\n",
    "\n",
    "def spalin(x):\n",
    "    if x == x[::-1]:\n",
    "        print(\"The string is palindrome\")\n",
    "    else:\n",
    "        print(\"The string is not palindrome\")\n",
    "\n",
    "spalin(\"hello\")\n",
    "spalin(\"malayalam\")"
   ]
  },
  {
   "cell_type": "code",
   "execution_count": 47,
   "id": "d3b1ba25-8c55-4437-898c-1722a3a6f2eb",
   "metadata": {},
   "outputs": [
    {
     "name": "stdout",
     "output_type": "stream",
     "text": [
      "[0, 1, 4, 9, 16, 25, 36, 49, 64, 81]\n"
     ]
    }
   ],
   "source": [
    "# 10\n",
    "\n",
    "def squares():\n",
    "    lst = []\n",
    "    for i in range(10):\n",
    "        lst.append(i*i)\n",
    "    print(lst)\n",
    "\n",
    "squares()"
   ]
  },
  {
   "cell_type": "code",
   "execution_count": null,
   "id": "fa3dd4bd-6f0b-4a56-9156-a0f4b28375b1",
   "metadata": {},
   "outputs": [],
   "source": [
    "# 11\n"
   ]
  },
  {
   "cell_type": "code",
   "execution_count": 48,
   "id": "af878b42-e582-4938-8bc5-5b6117f87007",
   "metadata": {},
   "outputs": [],
   "source": [
    "# 12\n"
   ]
  }
 ],
 "metadata": {
  "kernelspec": {
   "display_name": "Python 3 (ipykernel)",
   "language": "python",
   "name": "python3"
  },
  "language_info": {
   "codemirror_mode": {
    "name": "ipython",
    "version": 3
   },
   "file_extension": ".py",
   "mimetype": "text/x-python",
   "name": "python",
   "nbconvert_exporter": "python",
   "pygments_lexer": "ipython3",
   "version": "3.12.4"
  }
 },
 "nbformat": 4,
 "nbformat_minor": 5
}
